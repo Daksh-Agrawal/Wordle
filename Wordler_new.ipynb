{
  "nbformat": 4,
  "nbformat_minor": 0,
  "metadata": {
    "colab": {
      "provenance": []
    },
    "kernelspec": {
      "name": "python3",
      "display_name": "Python 3"
    },
    "language_info": {
      "name": "python"
    }
  },
  "cells": [
    {
      "cell_type": "code",
      "execution_count": null,
      "metadata": {
        "id": "N047RtISrpim"
      },
      "outputs": [],
      "source": []
    },
    {
      "cell_type": "code",
      "execution_count": null,
      "metadata": {
        "id": "iXBkn8xmp__p"
      },
      "outputs": [],
      "source": [
        "from google.colab import files\n",
        "uploaded = files.upload()"
      ]
    },
    {
      "cell_type": "code",
      "execution_count": 55,
      "metadata": {
        "id": "iuR2lVaoqf_y"
      },
      "outputs": [],
      "source": [
        "import copy\n",
        "import pandas as pd\n",
        "import io\n",
        "df = pd.read_csv(io.BytesIO(uploaded['5 letter words.csv']))"
      ]
    },
    {
      "cell_type": "markdown",
      "source": [
        "RUN ALL CODE BLOCKS BELOW AFTER EVERY TRY"
      ],
      "metadata": {
        "id": "Cgh3J4VLdnTg"
      }
    },
    {
      "cell_type": "code",
      "source": [
        "wordlist=list(df.iloc[:, 0]) #list of all possible 5 letter words\n",
        "guesslist=copy.deepcopy(wordlist)\n",
        "guesslisttemp=copy.deepcopy(wordlist)\n",
        "left=5\n",
        "wordcount=len(wordlist)\n",
        "glist=[1,2,3,4,5]\n",
        "ylist=[1,2,3,4,5]"
      ],
      "metadata": {
        "id": "zP95qPU-r1nx"
      },
      "execution_count": 81,
      "outputs": []
    },
    {
      "cell_type": "markdown",
      "source": [
        "ISSUE IN FILTERING GUESSLIST"
      ],
      "metadata": {
        "id": "RM5FDArWdd8S"
      }
    },
    {
      "cell_type": "code",
      "source": [
        "def bgycheck(guessword,ans):\n",
        "    inp=[\" \"]*5\n",
        "    for i in range(5):\n",
        "        if guessword[i]==ans[i]:\n",
        "            inp[i]=\"g\"\n",
        "            ans=ans[:i]+' '+ans[i+1:]\n",
        "    for i in range(5):\n",
        "        if guessword[i] in ans:\n",
        "            inp[i]=\"y\"\n",
        "            ans=ans.replace(guessword[i],\" \",1)\n",
        "        else:\n",
        "            inp[i]=='b'\n",
        "\n",
        "    return inp\n",
        "\n",
        "def bgyscore(gue,ans):\n",
        "    scor=0\n",
        "    for i in range(left):\n",
        "        if gue[i]==ans[i]:\n",
        "            scor+=8\n",
        "            ans=ans[:i]+' '+ans[i+1:]\n",
        "    for i in range(left):\n",
        "        if gue[i] in ans:\n",
        "            scor+=4\n",
        "            ans=ans.replace(guessword[i],\" \",1)\n",
        "        else:\n",
        "            scor+=1\n",
        "    return scor\n",
        "\n",
        "def bgydo(inp):\n",
        "    global guesslisttemp\n",
        "    global left\n",
        "\n",
        "    for i in range(len(inp)):\n",
        "        l=len(guesslist)\n",
        "\n",
        "        if inp[i]==\"b\":\n",
        "            k2=0\n",
        "            for k in range(l):\n",
        "                if guessword[i] in guesslist[k2]:\n",
        "                    guesslist.pop(k2)\n",
        "                    guesslisttemp.pop(k2)\n",
        "                    k2-=1\n",
        "                k2+=1\n",
        "\n",
        "        elif inp[i]==\"y\":\n",
        "            k2=0\n",
        "            for k in range(l):\n",
        "                if guessword[i] not in guesslist[k2] or guessword[i]==guesslist[k2][i]:\n",
        "                    guesslist.pop(k2)\n",
        "                    guesslisttemp.pop(k2)\n",
        "                    k2-=1\n",
        "                k2+=1\n",
        "\n",
        "        else: #'g'\n",
        "            k2=0\n",
        "            for k in range(l):\n",
        "                if guessword[i]!=guesslist[k2][i]:\n",
        "                    guesslist.pop(k2)\n",
        "                    guesslisttemp.pop(k2)\n",
        "                    k2-=1\n",
        "                else:\n",
        "                    temp=guesslisttemp[k2]\n",
        "                    guesslisttemp[k2]=temp[:i]+\" \"+temp[i+1:]\n",
        "                    del temp\n",
        "                k2+=1\n",
        "            left-=1\n",
        "\n",
        "def scoring(scoreword):\n",
        "    score=0\n",
        "    for i in guesslisttemp:\n",
        "        score+=bgyscore(scoreword,i)\n",
        "    return score\n",
        "'''\n",
        "def scoring(scoreword):\n",
        "    sc=0 #score\n",
        "    for k in set(scoreword):\n",
        "        j=[r for r in range (left) if scoreword[r]==k]\n",
        "        sc+=1.4*sum(acount[k][x] for x in ylist)+sum([acount[k][x] for x in j])\n",
        "    return sc\n",
        "'''\n",
        "\n",
        "def guess():\n",
        "    if len(guesslist)<=3:\n",
        "        return guesslist[0]\n",
        "    scorelist=[]\n",
        "    count=0\n",
        "    for word in wordlist:\n",
        "        currscore=scoring(word)\n",
        "        scorelist.append(currscore)\n",
        "        count+=1\n",
        "        print(count)\n",
        "    ideal=(max(scorelist)+min(scorelist))*(1-(len(guesslist)/wordcount)/4)\n",
        "    diff=99999999999999\n",
        "    index=0\n",
        "    for i in range(len(scorelist)):\n",
        "        currdiff=(scorelist[i]-ideal)**2\n",
        "        if currdiff<diff:\n",
        "            diff=currdiff\n",
        "            index=i\n",
        "    guessword=wordlist[index]\n",
        "    return guessword\n",
        "\n",
        "\n",
        "def wordle(ans):\n",
        "    pass"
      ],
      "metadata": {
        "id": "xdQMxXEL2clM"
      },
      "execution_count": 82,
      "outputs": []
    },
    {
      "cell_type": "code",
      "source": [
        "inp=''\n",
        "while inp!='ggggg':\n",
        "    print(guess())\n",
        "    inp=input(\"Enter 5 letter string (gyybb : )\")[0:5]\n",
        "    bgydo(inp)"
      ],
      "metadata": {
        "id": "dpPKOWbMa8XZ"
      },
      "execution_count": null,
      "outputs": []
    },
    {
      "cell_type": "markdown",
      "source": [
        "PLEASE REFER TO ABOVE CODE ONLY."
      ],
      "metadata": {
        "id": "yKyRtGxqdSEk"
      }
    },
    {
      "cell_type": "code",
      "source": [
        "def bgycheck(guessword,ans):\n",
        "    inp=\"\"\n",
        "    for i in range(5):\n",
        "        if guessword[i] not in ans:\n",
        "            inp+=\"b\"\n",
        "        else:\n",
        "            if guessword[i]==ans[i]:\n",
        "                inp+=\"g\"\n",
        "                ans=ans[:i]+' '+ans[i+1:]\n",
        "    for i in range(5):\n",
        "        if guessword[i] in ans and guessword[i]!=ans[i]:\n",
        "            inp=inp[:i]+'y'+inp[i:]\n",
        "            ans=ans[:i]+' '+ans[i+1:]\n",
        "    return inp\n",
        "\n",
        "def bgyscore(gue,ans):\n",
        "    scor=0\n",
        "    for i in range(left):\n",
        "        if gue[i]==ans[i]:\n",
        "            scor+=2\n",
        "            ans=ans[:i]+' '+ans[i+1:]\n",
        "        elif gue[i] in ans:\n",
        "            scor+=1\n",
        "            ans=\n",
        "    return scor\n",
        "\n",
        "def bgydo(inp):\n",
        "    global guesslisttemp\n",
        "\n",
        "    for i in range(len(inp)):\n",
        "        l=len(guesslisttemp)\n",
        "\n",
        "        if inp[i]==\"b\":\n",
        "            for k in range(l):\n",
        "                if guessword[i] in guesslist[k]:\n",
        "                    guesslist.pop(k)\n",
        "                    guesslisttemp.pop(k)\n",
        "\n",
        "        elif inp[i]==\"y\":\n",
        "            for k in range(l):\n",
        "                if guessword[i] not in guesslist[k] or guessword[i]==guesslist[k][i]:\n",
        "                    guesslist.pop(k)\n",
        "                    guesslisttemp.pop(k)\n",
        "\n",
        "        else: #'g'\n",
        "            for k in range(l):\n",
        "                if guessword[i]!=guesslist[k][i]:\n",
        "                    guesslist.pop(k)\n",
        "                    guesslisttemp.pop(k)\n",
        "                else:\n",
        "                    temp=guesslisttemp[k]\n",
        "                    guesslisttemp[k]=temp[:i]+\" \"+temp[i+1:]\n",
        "                    del temp\n",
        "            word[i]=guessword[i]\n",
        "            left-=1\n",
        "\n",
        "def scoring(scoreword):\n",
        "    score=0\n",
        "    for i in guesslisttemp:\n",
        "        score+=bgyscore(scoreword,i)\n",
        "    return score\n",
        "'''\n",
        "def scoring(scoreword):\n",
        "    sc=0 #score\n",
        "    for k in set(scoreword):\n",
        "        j=[r for r in range (left) if scoreword[r]==k]\n",
        "        sc+=1.4*sum(acount[k][x] for x in ylist)+sum([acount[k][x] for x in j])\n",
        "    return sc\n",
        "'''\n",
        "\n",
        "def guess():\n",
        "    guessword=''\n",
        "    maxscore=0\n",
        "    count=0\n",
        "    for word in guesslist:\n",
        "        currscore=scoring(word)\n",
        "        if currscore>maxscore:\n",
        "            guessword=word\n",
        "            maxscore=currscore\n",
        "        count+=1\n",
        "        print(count)\n",
        "    return guessword\n",
        "\n",
        "\n",
        "def wordle(ans):\n",
        "    pass"
      ],
      "metadata": {
        "id": "mSJYEI5VsTf4"
      },
      "execution_count": 39,
      "outputs": []
    }
  ]
}