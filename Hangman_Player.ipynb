{
  "nbformat": 4,
  "nbformat_minor": 0,
  "metadata": {
    "colab": {
      "provenance": []
    },
    "kernelspec": {
      "name": "python3",
      "display_name": "Python 3"
    },
    "language_info": {
      "name": "python"
    }
  },
  "cells": [
    {
      "cell_type": "code",
      "execution_count": 8,
      "metadata": {
        "colab": {
          "base_uri": "https://localhost:8080/",
          "height": 401
        },
        "id": "X8oHGQRUcT91",
        "outputId": "5c05bc59-6942-4996-b497-667c6bcadb06"
      },
      "outputs": [
        {
          "output_type": "stream",
          "name": "stdout",
          "text": [
            "['hell', 'heaven']\n"
          ]
        },
        {
          "output_type": "error",
          "ename": "TypeError",
          "evalue": "ignored",
          "traceback": [
            "\u001b[0;31m---------------------------------------------------------------------------\u001b[0m",
            "\u001b[0;31mTypeError\u001b[0m                                 Traceback (most recent call last)",
            "\u001b[0;32m<ipython-input-8-a09e054e0033>\u001b[0m in \u001b[0;36m<cell line: 55>\u001b[0;34m()\u001b[0m\n\u001b[1;32m     54\u001b[0m \u001b[0;34m\u001b[0m\u001b[0m\n\u001b[1;32m     55\u001b[0m \u001b[0;32mwhile\u001b[0m \u001b[0mgame_status\u001b[0m\u001b[0;34m(\u001b[0m\u001b[0;34m)\u001b[0m\u001b[0;34m:\u001b[0m\u001b[0;34m\u001b[0m\u001b[0;34m\u001b[0m\u001b[0m\n\u001b[0;32m---> 56\u001b[0;31m   \u001b[0mguessletter\u001b[0m\u001b[0;34m=\u001b[0m\u001b[0mguess\u001b[0m\u001b[0;34m(\u001b[0m\u001b[0;34m)\u001b[0m\u001b[0;34m\u001b[0m\u001b[0;34m\u001b[0m\u001b[0m\n\u001b[0m\u001b[1;32m     57\u001b[0m   \u001b[0msend_guess\u001b[0m\u001b[0;34m(\u001b[0m\u001b[0mguessletter\u001b[0m\u001b[0;34m)\u001b[0m\u001b[0;34m\u001b[0m\u001b[0;34m\u001b[0m\u001b[0m\n\u001b[1;32m     58\u001b[0m   \u001b[0mwordlist\u001b[0m\u001b[0;34m=\u001b[0m\u001b[0mfilter2\u001b[0m\u001b[0;34m(\u001b[0m\u001b[0mget_indices\u001b[0m\u001b[0;34m(\u001b[0m\u001b[0;34m)\u001b[0m\u001b[0;34m,\u001b[0m\u001b[0mwordlist\u001b[0m\u001b[0;34m)\u001b[0m\u001b[0;34m\u001b[0m\u001b[0;34m\u001b[0m\u001b[0m\n",
            "\u001b[0;32m<ipython-input-8-a09e054e0033>\u001b[0m in \u001b[0;36mguess\u001b[0;34m()\u001b[0m\n\u001b[1;32m     40\u001b[0m   \u001b[0;32mfor\u001b[0m \u001b[0mi\u001b[0m \u001b[0;32min\u001b[0m \u001b[0mrange\u001b[0m\u001b[0;34m(\u001b[0m\u001b[0;36m97\u001b[0m\u001b[0;34m,\u001b[0m\u001b[0;36m123\u001b[0m\u001b[0;34m)\u001b[0m\u001b[0;34m:\u001b[0m\u001b[0;34m\u001b[0m\u001b[0;34m\u001b[0m\u001b[0m\n\u001b[1;32m     41\u001b[0m     \u001b[0mletter\u001b[0m\u001b[0;34m=\u001b[0m\u001b[0mchr\u001b[0m\u001b[0;34m(\u001b[0m\u001b[0mi\u001b[0m\u001b[0;34m)\u001b[0m\u001b[0;34m\u001b[0m\u001b[0;34m\u001b[0m\u001b[0m\n\u001b[0;32m---> 42\u001b[0;31m     \u001b[0mcount\u001b[0m\u001b[0;34m=\u001b[0m\u001b[0mlen\u001b[0m\u001b[0;34m(\u001b[0m\u001b[0;34m[\u001b[0m\u001b[0mword\u001b[0m \u001b[0;32mfor\u001b[0m \u001b[0mword\u001b[0m \u001b[0;32min\u001b[0m \u001b[0mwordlist\u001b[0m \u001b[0;32mif\u001b[0m \u001b[0mletter\u001b[0m \u001b[0;32min\u001b[0m \u001b[0mword\u001b[0m\u001b[0;34m]\u001b[0m\u001b[0;34m)\u001b[0m\u001b[0;34m\u001b[0m\u001b[0;34m\u001b[0m\u001b[0m\n\u001b[0m\u001b[1;32m     43\u001b[0m     \u001b[0;32mif\u001b[0m \u001b[0mmaxcount\u001b[0m\u001b[0;34m<\u001b[0m\u001b[0mcount\u001b[0m\u001b[0;34m:\u001b[0m\u001b[0;34m\u001b[0m\u001b[0;34m\u001b[0m\u001b[0m\n\u001b[1;32m     44\u001b[0m       \u001b[0mmaxcount\u001b[0m\u001b[0;34m=\u001b[0m\u001b[0mcount\u001b[0m\u001b[0;34m\u001b[0m\u001b[0;34m\u001b[0m\u001b[0m\n",
            "\u001b[0;31mTypeError\u001b[0m: 'NoneType' object is not iterable"
          ]
        }
      ],
      "source": [
        "def get_wordlist(theme):\n",
        "  wordlist=[\"hell\",\"heaven\"]\n",
        "  return wordlist\n",
        "  #gets themed wordlist\n",
        "\n",
        "def game_status():\n",
        "  return 1\n",
        "  #whether game is on or off\n",
        "\n",
        "def get_indices():\n",
        "  #code to get places at which letters were filled\n",
        "  indices=[]\n",
        "  return indices\n",
        "\n",
        "def send_guess():\n",
        "  #code to send letter\n",
        "  print(guess)\n",
        "\n",
        "def get_size():\n",
        "  size=4 #default\n",
        "  return size\n",
        "\n",
        "def get_theme():\n",
        "  return \"Animals\"\n",
        "\n",
        "def filter1(size,wordlist):\n",
        "  wordlist=[word for word in wordlist if len(word)==size]\n",
        "\n",
        "def filter2(indices,wordlist):\n",
        "  if indices:\n",
        "    wordlist=[word for word in wordlist if guessletter not in word]\n",
        "  else:\n",
        "    for index in indices:\n",
        "      wordlist=[word for word in wordlist if guessletter == word[index]]\n",
        "\n",
        "def guess():\n",
        "  guessletter=''\n",
        "  maxcount=0\n",
        "  count=0\n",
        "  for i in range(97,123):\n",
        "    letter=chr(i)\n",
        "    count=len([word for word in wordlist if letter in word])\n",
        "    if maxcount<count:\n",
        "      maxcount=count\n",
        "      guessletter=letter\n",
        "  return guessletter\n",
        "\n",
        "\n",
        "\n",
        "wordlist=get_wordlist(get_theme())\n",
        "print (wordlist)\n",
        "\n",
        "wordlist=filter1(get_size,wordlist)\n",
        "\n",
        "while game_status():\n",
        "  guessletter=guess()\n",
        "  send_guess(guessletter)\n",
        "  wordlist=filter2(get_indices(),wordlist)"
      ]
    },
    {
      "cell_type": "code",
      "source": [],
      "metadata": {
        "id": "xl9R1F89h6OS"
      },
      "execution_count": null,
      "outputs": []
    }
  ]
}